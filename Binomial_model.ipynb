{
 "cells": [
  {
   "cell_type": "markdown",
   "id": "e22b19e0-669c-4b19-ac1d-400393262c9b",
   "metadata": {},
   "source": [
    "# Modèle binomial de Cox–Ross–Rubinstein (CRR)\n",
    "\n",
    "Le modèle de Cox–Ross–Rubinstein est un modèle discret d’évaluation des options fondé sur la construction d’un arbre binomial représentant l’évolution possible du prix d’un actif sous-jacent.  \n",
    "Il repose sur l’idée qu’à chaque pas de temps, le prix de l’actif peut soit augmenter d’un facteur déterminé, soit diminuer d’un autre facteur déterminé.  \n",
    "\n",
    "### Dynamique de l’actif\n",
    "\n",
    "On considère un actif sous-jacent de prix $S_t$ au temps $t$.  \n",
    "L’échéance de l’option est $T$, et l’on divise l’intervalle $[t, T]$ en $N$ sous-intervalles de longueur :\n",
    "\n",
    "$$\n",
    "\\Delta t = \\frac{T - t}{N}\n",
    "$$\n",
    "\n",
    "Le temps restant jusqu’à l’échéance est :\n",
    "\n",
    "$$\n",
    "\\tau = T - t\n",
    "$$\n",
    "\n",
    "À chaque pas de temps, le sous-jacent peut :\n",
    "\n",
    "augmenter d’un facteur $u$ (hausse) <br>\n",
    "diminuer d’un facteur $d$ (baisse)\n",
    "\n",
    "Ces facteurs sont choisis de façon à reproduire la volatilité $\\sigma$ du sous-jacent :\n",
    "\n",
    "$$\n",
    "u = e^{\\sigma \\sqrt{\\Delta t}}, \\quad d = e^{-\\sigma \\sqrt{\\Delta t}} = \\frac{1}{u}\n",
    "$$\n",
    "\n",
    "Sous la mesure risque-neutre $\\mathbb{Q}$, la probabilité d’une hausse est donnée par :\n",
    "\n",
    "$$\n",
    "p = \\frac{e^{r \\Delta t} - d}{u - d}\n",
    "$$\n",
    "\n",
    "où $r$ est le taux d’intérêt sans risque.  \n",
    "On vérifie que $0 < p < 1$ si $d < e^{r \\Delta t} < u$.\n",
    "\n",
    "### Valeur du sous-jacent à maturité\n",
    "\n",
    "Après $M = N - i$ étapes restantes depuis la date $t$, si le sous-jacent connaît $j$ baisses (et donc $M - j$ hausses), sa valeur est :\n",
    "\n",
    "$$\n",
    "S_T = S_t\\, u^{\\,M - j} d^{\\,j}\n",
    "$$\n",
    "\n",
    "où $S_t$ est le prix du sous-jacent au temps $t$.\n",
    "\n",
    "### Prix d'une option européenne dans le modèle CRR\n",
    "\n",
    "La valeur d'une option européenne au temps $t$ est l'espérance actualisée de son payoff sous la probabilité risque-neutre.  \n",
    "\n",
    " Pour un call européen :\n",
    "\n",
    "$$\n",
    "C_t = e^{-r \\tau} \\sum_{j=0}^{M} \\binom{M}{j} p^{\\,M - j} (1 - p)^{j} \\max\\left( S_t\\, u^{\\,M - j} d^{\\,j} - K,\\, 0 \\right)\n",
    "$$\n",
    "<br><br>\n",
    " Pour un put européen:\n",
    "\n",
    "$$\n",
    "P_t = e^{-r \\tau} \\sum_{j=0}^{M} \\binom{M}{j} p^{\\,M - j} (1 - p)^{j} \\max\\left( K - S_t\\, u^{\\,M - j} d^{\\,j},\\, 0 \\right)\n",
    "$$\n",
    "\n",
    "avec :\n",
    "<br>\n",
    "$M = N - i$ : nombre de pas restants à partir du temps $t$  <br>\n",
    "$\\tau = T - t$ : temps restant jusqu'à l’échéance  <br>\n",
    "$p = \\dfrac{e^{r \\Delta t} - d}{u - d}$ : probabilité risque-neutre d’une hausse <br>  \n",
    "$\\binom{M}{j} = \\dfrac{M!}{j! (M - j)!}$ : coefficient binomial  <br>\n",
    "\n",
    "### Interprétation\n",
    "\n",
    "Chaque terme de la somme représente le payoff pondéré par la probabilité d’un scénario donné :  <br>\n",
    " $j$ baisses et $M - j$ hausses sur les $M$ pas restants,  <br>\n",
    "$S_t\\, u^{M - j} d^{j}$ est le prix atteint dans ce scénario,  le coefficient binomial $\\binom{M}{j}$ représente le nombre de chemins possibles correspondant à ce scénario. <br>\n",
    "\n",
    "L’actualisation $e^{-r \\tau}$ permet de ramener cette espérance à la date $t$.\n",
    "\n",
    "Rq: Plus $N$ est grand (pas de temps petits), plus le modèle CRR converge vers le modèle continu de Black–Scholes.\n"
   ]
  },
  {
   "cell_type": "code",
   "execution_count": 18,
   "id": "55c7f823-e0fb-4262-ad51-346c957fdff6",
   "metadata": {},
   "outputs": [],
   "source": [
    "import numpy as np\n",
    "\n",
    "class BinomialModel:\n",
    "    def __init__(self, S0=100, K=100, T=1.0, N=3, u=1.1, r=0.06, optype=\"C\"):\n",
    "        self.S0 = float(S0)\n",
    "        self.K = float(K)\n",
    "        self.T = float(T)\n",
    "        self.N = int(N)\n",
    "        self.r = float(r)\n",
    "        self.optype = optype.upper()\n",
    "\n",
    "        self.dt = self.T / self.N\n",
    "        self.u = float(u)\n",
    "        self.d = 1 / self.u\n",
    "\n",
    "        if not (self.d < np.exp(self.r * self.dt) < self.u):\n",
    "            raise ValueError(\"Condition d'absence d'arbitrage non respectée.\")\n",
    "\n",
    "    def _risk_neutral_proba(self):\n",
    "        q = (np.exp(self.r * self.dt) - self.d) / (self.u - self.d)\n",
    "        disc = np.exp(-self.r * self.dt)\n",
    "        return q, disc\n",
    "\n",
    "    def option_price_time_t(self, S_t=None, t_index=0):\n",
    "\n",
    "        if S_t is None:\n",
    "            S_t = self.S0\n",
    "        if not (0 <= t_index <= self.N):\n",
    "            raise ValueError(\"t_index doit être compris entre 0 et N.\")\n",
    "\n",
    "        q, disc = self._risk_neutral_proba()\n",
    "        M = self.N - t_index  # nombre d’étapes restantes\n",
    "        j = np.arange(M + 1)\n",
    "        S_T = S_t * (self.u ** j) * (self.d ** (M - j))\n",
    "\n",
    "        if self.optype == \"C\":\n",
    "            C = np.maximum(S_T - self.K, 0.0)\n",
    "        else:\n",
    "            C = np.maximum(self.K - S_T, 0.0)\n",
    "\n",
    "        # backward sur les étapes restantes\n",
    "        for i in range(M, 0, -1):\n",
    "            C = disc * (q * C[1:i + 1] + (1 - q) * C[0:i])\n",
    "\n",
    "        return C[0]\n"
   ]
  },
  {
   "cell_type": "markdown",
   "id": "585a88ed-dabe-466d-9a7a-8eab8b739635",
   "metadata": {},
   "source": [
    "## Exemple"
   ]
  },
  {
   "cell_type": "markdown",
   "id": "44218aa3-4628-47c8-bff1-28d902df850c",
   "metadata": {},
   "source": [
    "Prix initial put"
   ]
  },
  {
   "cell_type": "code",
   "execution_count": 30,
   "id": "8bea4cdf-dbda-4e2e-9fd5-0f9d20ae27d7",
   "metadata": {},
   "outputs": [
    {
     "name": "stdout",
     "output_type": "stream",
     "text": [
      "Prix put à t=0 : 4.73727527375481\n"
     ]
    }
   ],
   "source": [
    "put = BinomialModel(S0=100, K=100, T=1, N=3, u=1.1, r=0.05, optype=\"P\")\n",
    "print(\"Prix put à t=0 :\", put.option_price_time_t())\n"
   ]
  },
  {
   "cell_type": "markdown",
   "id": "8a1e92f8-8260-42ee-9806-00a681867df1",
   "metadata": {},
   "source": [
    "Prix initial Call"
   ]
  },
  {
   "cell_type": "code",
   "execution_count": 34,
   "id": "c847a9da-961a-44e7-b37c-1d9f21124d02",
   "metadata": {},
   "outputs": [
    {
     "name": "stdout",
     "output_type": "stream",
     "text": [
      "Prix à t=0 : 9.614332823683386\n"
     ]
    }
   ],
   "source": [
    "call = BinomialModel(S0=100, K=100, T=1, N=3, u=1.1, r=0.05, optype=\"C\")\n",
    "print(\"Prix à t=0 :\", call.option_price_time_t())"
   ]
  },
  {
   "cell_type": "markdown",
   "id": "c10f2b17-41c5-4016-8a69-c679cf90430d",
   "metadata": {},
   "source": [
    "Prix call après deux hausses"
   ]
  },
  {
   "cell_type": "code",
   "execution_count": 39,
   "id": "38a49234-ae1b-47f8-9ee1-c4f3fa1985dd",
   "metadata": {},
   "outputs": [
    {
     "name": "stdout",
     "output_type": "stream",
     "text": [
      "Prix call à t=2 après deux hausses : 22.65285461783826\n"
     ]
    }
   ],
   "source": [
    "call2 = call.S0 * call.u**2\n",
    "print(\"Prix call à t=2 après deux hausses :\", call.option_price_time_t(S_t=S2, t_index=2))\n"
   ]
  },
  {
   "cell_type": "markdown",
   "id": "ecf30bd8-08bd-4751-a009-29ec2ff714fe",
   "metadata": {},
   "source": [
    "Prix put après deux hausses "
   ]
  },
  {
   "cell_type": "code",
   "execution_count": 42,
   "id": "1b845862-a3ce-4f90-9c79-3e82f56b7df0",
   "metadata": {},
   "outputs": [
    {
     "name": "stdout",
     "output_type": "stream",
     "text": [
      "Prix put à t=2 après deux hausses : 0.0\n"
     ]
    }
   ],
   "source": [
    "put2 = put.S0 * put.u**2\n",
    "print(\"Prix put à t=2 après deux hausses :\", put.option_price_time_t(S_t=S2, t_index=2))\n"
   ]
  }
 ],
 "metadata": {
  "kernelspec": {
   "display_name": "Python [conda env:base] *",
   "language": "python",
   "name": "conda-base-py"
  },
  "language_info": {
   "codemirror_mode": {
    "name": "ipython",
    "version": 3
   },
   "file_extension": ".py",
   "mimetype": "text/x-python",
   "name": "python",
   "nbconvert_exporter": "python",
   "pygments_lexer": "ipython3",
   "version": "3.11.5"
  }
 },
 "nbformat": 4,
 "nbformat_minor": 5
}
